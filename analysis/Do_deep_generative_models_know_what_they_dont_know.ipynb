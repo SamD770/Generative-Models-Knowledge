{
 "cells": [
  {
   "cell_type": "code",
   "execution_count": 8,
   "metadata": {
    "pycharm": {
     "name": "#%%\n"
    }
   },
   "outputs": [
    {
     "name": "stdout",
     "output_type": "stream",
     "text": [
      "{'K': 32, 'L': 3, 'LU_decomposed': True, 'actnorm_scale': 1.0, 'augment': True, 'batch_size': 64, 'cuda': True, 'dataroot': './', 'dataset': 'cifar10', 'download': False, 'epochs': 250, 'eval_batch_size': 512, 'flow_coupling': 'affine', 'flow_permutation': 'invconv', 'hidden_channels': 512, 'learn_top': True, 'lr': 0.0005, 'max_grad_clip': 0, 'max_grad_norm': 0, 'n_init_batches': 8, 'n_workers': 6, 'output_dir': 'output_new/', 'saved_model': '', 'saved_optimizer': '', 'seed': 0, 'warmup': 5, 'y_condition': False, 'y_weight': 0.01}\n",
      "Files already downloaded and verified\n",
      "Files already downloaded and verified\n",
      "Using downloaded and verified file: data\\SVHN\\train_32x32.mat\n",
      "Downloading http://ufldl.stanford.edu/housenumbers/test_32x32.mat to data\\SVHN\\test_32x32.mat\n"
     ]
    },
    {
     "name": "stderr",
     "output_type": "stream",
     "text": [
      "91.6%"
     ]
    }
   ],
   "source": [
    "import json\n",
    "\n",
    "import torch\n",
    "import matplotlib.pyplot as plt\n",
    "import seaborn as sns\n",
    "sns.set()\n",
    "\n",
    "from datasets import get_CIFAR10, get_SVHN\n",
    "from model import Glow\n",
    "\n",
    "device = torch.device(\"cuda\")\n",
    "\n",
    "output_folder = \"output_new/\"\n",
    "model_name = 'glow_checkpoint_194469.pt'\n",
    "\n",
    "with open(output_folder + 'hparams.json') as json_file:  \n",
    "    hparams = json.load(json_file)\n",
    "    \n",
    "print(hparams)\n",
    "print(f\"using model: {output_folder + model_name}\")\n",
    "\n",
    "\n",
    "\n",
    "image_shape, num_classes, _, test_cifar = get_CIFAR10(hparams['augment'], hparams['dataroot'], True)\n",
    "image_shape, num_classes, _, test_svhn = get_SVHN(hparams['augment'], hparams['dataroot'], True)\n",
    "\n",
    "model = Glow(image_shape, hparams['hidden_channels'], hparams['K'], hparams['L'], hparams['actnorm_scale'],\n",
    "             hparams['flow_permutation'], hparams['flow_coupling'], hparams['LU_decomposed'], num_classes,\n",
    "             hparams['learn_top'], hparams['y_condition'])\n",
    "\n",
    "model.load_state_dict(torch.load(output_folder + model_name))\n",
    "model.set_actnorm_init()\n",
    "\n",
    "model = model.to(device)\n",
    "\n",
    "model = model.eval()"
   ]
  },
  {
   "cell_type": "code",
   "execution_count": null,
   "metadata": {
    "pycharm": {
     "name": "#%%\n"
    }
   },
   "outputs": [],
   "source": [
    "def compute_nll(dataset, model):\n",
    "    dataloader = torch.utils.data.DataLoader(dataset, batch_size=512, num_workers=6)\n",
    "    \n",
    "    nlls = []\n",
    "    for x,y in dataloader:\n",
    "        x = x.to(device)\n",
    "        \n",
    "        if hparams['y_condition']:\n",
    "            y = y.to(device)\n",
    "        else:\n",
    "            y = None\n",
    "        \n",
    "        with torch.no_grad():\n",
    "            _, nll, _ = model(x, y_onehot=y)\n",
    "            nlls.append(nll)\n",
    "        \n",
    "    return torch.cat(nlls).cpu()"
   ]
  },
  {
   "cell_type": "code",
   "execution_count": null,
   "metadata": {
    "pycharm": {
     "name": "#%%\n"
    },
    "scrolled": true
   },
   "outputs": [],
   "source": [
    "cifar_nll = compute_nll(test_cifar, model)\n",
    "svhn_nll = compute_nll(test_svhn, model)\n",
    "\n",
    "print(\"CIFAR NLL\", torch.mean(cifar_nll))\n",
    "print(\"SVHN NLL\", torch.mean(svhn_nll))"
   ]
  },
  {
   "cell_type": "code",
   "execution_count": null,
   "metadata": {
    "pycharm": {
     "name": "#%%\n"
    },
    "scrolled": false
   },
   "outputs": [],
   "source": [
    "plt.figure(figsize=(20,10))\n",
    "plt.title(\"Histogram Glow - trained on CIFAR10\")\n",
    "plt.xlabel(\"Negative bits per dimension\")\n",
    "plt.hist(-svhn_nll.numpy(), label=\"SVHN\", density=True, bins=30)\n",
    "plt.hist(-cifar_nll.numpy(), label=\"CIFAR10\", density=True, bins=50)\n",
    "plt.legend()\n",
    "plt.show()\n",
    "# plt.savefig(\"images/histogram_glow_cifar_svhn.png\", dpi=300)"
   ]
  }
 ],
 "metadata": {
  "kernelspec": {
   "display_name": "Python 3 (ipykernel)",
   "language": "python",
   "name": "python3"
  },
  "language_info": {
   "codemirror_mode": {
    "name": "ipython",
    "version": 3
   },
   "file_extension": ".py",
   "mimetype": "text/x-python",
   "name": "python",
   "nbconvert_exporter": "python",
   "pygments_lexer": "ipython3",
   "version": "3.7.7"
  }
 },
 "nbformat": 4,
 "nbformat_minor": 2
}