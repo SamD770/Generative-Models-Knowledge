{
 "cells": [
  {
   "cell_type": "code",
   "execution_count": null,
   "id": "c0a3b627",
   "metadata": {},
   "outputs": [],
   "source": [
    "import pandas as pd\n",
    "df_mvae_1 = pd.read_csv('../outputs/sweep_outputs/news.csv').rename(columns=(lambda s: s + '_news'))\n",
    "df_mvae_2 = pd.read_csv('../outputs/sweep_outputs/synthetic1.csv').rename(columns=(lambda s: s + '_synthetic1'))\n",
    "df_mvae = pd.concat([df_mvae_1, df_mvae_2])\n",
    "df_mvae = df_mvae.rename(columns={'{}_{}_metric/{}_{}'.format(dataset, metric_type, metric, news_synthetic): '{}_{}_{}'.format(metric, dataset_2, news_synthetic) for (dataset, dataset_2) in zip(['train','test'],['in','out']) for model in ['propensity'] for metric in ['propensity_mw_normalized','max_linear_mmd_att'] for metric_type in ['matching','decoder_t'] for news_synthetic in ['synthetic1','news']})\n"
   ]
  },
  {
   "cell_type": "code",
   "execution_count": null,
   "id": "2ea4b5b8",
   "metadata": {},
   "outputs": [],
   "source": [
    "# Plot U-statistics\n",
    "import seaborn as sns\n",
    "import matplotlib.pyplot as plt\n",
    "import numpy as np\n",
    "plt.rc('figure', figsize=(10,10))\n",
    "fig, axs = plt.subplots(2)\n",
    "for i,synthetic_news in enumerate(['synthetic1','news']):\n",
    "    df_plot = df_mvae[['propensity_mw_normalized_in_{}'.format(synthetic_news), 'propensity_mw_normalized_out_{}'.format(synthetic_news)]]\n",
    "    df_plot.columns = ['In-Sample','Hold-Out']\n",
    "    sns.boxplot(color='gray', orient='h', data=df_plot, ax=axs[i])\n",
    "    axs[i].set_yticklabels(axs[i].get_yticklabels(),size=10)\n",
    "    axs[i].set_xlabel(None if i==0 else 'Normalised Mann-Whitney U-statistic')\n",
    "fig.tight_layout()\n",
    "plt.show()"
   ]
  },
  {
   "cell_type": "code",
   "execution_count": null,
   "id": "511efd07",
   "metadata": {
    "scrolled": false
   },
   "outputs": [],
   "source": [
    "# See maximal imbalance depending on U-statistic decile\n",
    "\n",
    "import seaborn as sns\n",
    "import matplotlib.pyplot as plt\n",
    "import numpy as np\n",
    "plt.rc('figure', figsize=(10,15))\n",
    "fig, axs = plt.subplots(2,2)\n",
    "for i,synthetic_news in enumerate(['synthetic1','news']):\n",
    "    for j,dataset in enumerate(['in','out']):\n",
    "        bins = np.arange(0, 1.01, 0.1)\n",
    "        df_mvae['propensity_mw_normalized_{}_{}_bin'.format(dataset, synthetic_news)] = ''\n",
    "        for mini, maxi in zip(bins[:-1], bins[1:]):\n",
    "            mini = np.round(mini,2)\n",
    "            maxi = np.round(maxi,2)\n",
    "            df_mvae['propensity_mw_normalized_{}_{}_bin'.format(dataset, synthetic_news)][(mini <= df_mvae['propensity_mw_normalized_{}_{}'.format(dataset, synthetic_news)]) & (df_mvae['propensity_mw_normalized_{}_{}'.format(dataset, synthetic_news)] < maxi)] = '${} \\leq U < {}$'.format(mini,maxi)\n",
    "            \n",
    "        sns.boxplot(x='propensity_mw_normalized_{}_{}_bin'.format(dataset, synthetic_news), y='max_linear_mmd_att_{}_{}'.format(dataset, synthetic_news), color='gray', data=df_mvae.sort_values(by='propensity_mw_normalized_{}_{}_bin'.format(dataset, synthetic_news)), ax=axs[i,j])\n",
    "        axs[i,j].set_xticklabels(axs[i,j].get_xticklabels(),rotation=90, size=10)\n",
    "        axs[i,j].set_xlabel(None if i==0 else 'Normalised Mann-Whitney U-statistic')\n",
    "        axs[i,j].set_ylabel(None if j>0 else 'Maximal Imbalance on MatchVAE scores')\n",
    "fig.tight_layout()\n",
    "plt.show()"
   ]
  },
  {
   "cell_type": "code",
   "execution_count": null,
   "id": "6e36d1ba",
   "metadata": {},
   "outputs": [],
   "source": []
  }
 ],
 "metadata": {
  "kernelspec": {
   "display_name": "Python 3",
   "language": "python",
   "name": "python3"
  },
  "language_info": {
   "codemirror_mode": {
    "name": "ipython",
    "version": 3
   },
   "file_extension": ".py",
   "mimetype": "text/x-python",
   "name": "python",
   "nbconvert_exporter": "python",
   "pygments_lexer": "ipython3",
   "version": "3.8.8"
  }
 },
 "nbformat": 4,
 "nbformat_minor": 5
}
